{
 "cells": [
  {
   "cell_type": "code",
   "execution_count": 43,
   "id": "df9ae8d9-ea1f-4bc3-b2d2-683904230de5",
   "metadata": {
    "tags": []
   },
   "outputs": [],
   "source": [
    "#the main libraries\n",
    "import pandas as pd\n",
    "import numpy as np\n",
    "\n",
    "#sklearn\n",
    "from sklearn import metrics\n",
    "from sklearn import tree\n",
    "from sklearn.metrics import mean_squared_error, mean_absolute_error\n",
    "from sklearn.tree import DecisionTreeClassifier\n",
    "from sklearn.model_selection import train_test_split\n",
    "from sklearn.preprocessing import LabelEncoder\n",
    "from sklearn.linear_model import LinearRegression"
   ]
  },
  {
   "cell_type": "code",
   "execution_count": 44,
   "id": "0a676e29-8653-40cf-b77e-0eff0a2f644e",
   "metadata": {
    "tags": []
   },
   "outputs": [],
   "source": [
    "#import the test and train dataset\n",
    "df_train= pd.read_csv(\"Housing_dataset_train.csv\")#train dataset\n",
    "df_test= pd.read_csv(\"Housing_dataset_test.csv\")#test_dataset\n",
    "submission= pd.read_csv(\"Sample_submission.csv\")#Submission file"
   ]
  },
  {
   "cell_type": "code",
   "execution_count": 45,
   "id": "ec8f5885-8e22-4559-b432-0d53245092ec",
   "metadata": {
    "tags": []
   },
   "outputs": [],
   "source": [
    "#filling the missing values in the train dataset\n",
    "df_train['bedroom'].fillna(df_train['bedroom'].mean(), inplace=True)\n",
    "df_train['bathroom'].fillna(df_train['bathroom'].mean(), inplace=True)\n",
    "df_train['parking_space'].fillna(0, inplace=True)"
   ]
  },
  {
   "cell_type": "code",
   "execution_count": 46,
   "id": "476d7261",
   "metadata": {
    "tags": []
   },
   "outputs": [
    {
     "data": {
      "text/html": [
       "<div>\n",
       "<style scoped>\n",
       "    .dataframe tbody tr th:only-of-type {\n",
       "        vertical-align: middle;\n",
       "    }\n",
       "\n",
       "    .dataframe tbody tr th {\n",
       "        vertical-align: top;\n",
       "    }\n",
       "\n",
       "    .dataframe thead th {\n",
       "        text-align: right;\n",
       "    }\n",
       "</style>\n",
       "<table border=\"1\" class=\"dataframe\">\n",
       "  <thead>\n",
       "    <tr style=\"text-align: right;\">\n",
       "      <th></th>\n",
       "      <th>ID</th>\n",
       "      <th>loc</th>\n",
       "      <th>title</th>\n",
       "      <th>bedroom</th>\n",
       "      <th>bathroom</th>\n",
       "      <th>parking_space</th>\n",
       "      <th>price</th>\n",
       "    </tr>\n",
       "  </thead>\n",
       "  <tbody>\n",
       "    <tr>\n",
       "      <th>2</th>\n",
       "      <td>9261</td>\n",
       "      <td>Ekiti</td>\n",
       "      <td>NaN</td>\n",
       "      <td>7.000000</td>\n",
       "      <td>5.000000</td>\n",
       "      <td>0.0</td>\n",
       "      <td>3364799.814</td>\n",
       "    </tr>\n",
       "    <tr>\n",
       "      <th>12</th>\n",
       "      <td>3753</td>\n",
       "      <td>NaN</td>\n",
       "      <td>NaN</td>\n",
       "      <td>5.000000</td>\n",
       "      <td>3.134235</td>\n",
       "      <td>5.0</td>\n",
       "      <td>2087592.812</td>\n",
       "    </tr>\n",
       "    <tr>\n",
       "      <th>16</th>\n",
       "      <td>488</td>\n",
       "      <td>Ondo</td>\n",
       "      <td>NaN</td>\n",
       "      <td>4.000000</td>\n",
       "      <td>2.000000</td>\n",
       "      <td>2.0</td>\n",
       "      <td>1851837.902</td>\n",
       "    </tr>\n",
       "    <tr>\n",
       "      <th>19</th>\n",
       "      <td>3389</td>\n",
       "      <td>Kaduna</td>\n",
       "      <td>NaN</td>\n",
       "      <td>5.000000</td>\n",
       "      <td>1.000000</td>\n",
       "      <td>1.0</td>\n",
       "      <td>1424308.199</td>\n",
       "    </tr>\n",
       "    <tr>\n",
       "      <th>27</th>\n",
       "      <td>1288</td>\n",
       "      <td>Delta</td>\n",
       "      <td>NaN</td>\n",
       "      <td>1.000000</td>\n",
       "      <td>2.000000</td>\n",
       "      <td>2.0</td>\n",
       "      <td>1412019.590</td>\n",
       "    </tr>\n",
       "    <tr>\n",
       "      <th>...</th>\n",
       "      <td>...</td>\n",
       "      <td>...</td>\n",
       "      <td>...</td>\n",
       "      <td>...</td>\n",
       "      <td>...</td>\n",
       "      <td>...</td>\n",
       "      <td>...</td>\n",
       "    </tr>\n",
       "    <tr>\n",
       "      <th>13986</th>\n",
       "      <td>3433</td>\n",
       "      <td>Taraba</td>\n",
       "      <td>NaN</td>\n",
       "      <td>2.000000</td>\n",
       "      <td>1.000000</td>\n",
       "      <td>4.0</td>\n",
       "      <td>1062526.208</td>\n",
       "    </tr>\n",
       "    <tr>\n",
       "      <th>13988</th>\n",
       "      <td>11693</td>\n",
       "      <td>Abia</td>\n",
       "      <td>NaN</td>\n",
       "      <td>3.000000</td>\n",
       "      <td>2.000000</td>\n",
       "      <td>3.0</td>\n",
       "      <td>1714768.802</td>\n",
       "    </tr>\n",
       "    <tr>\n",
       "      <th>13991</th>\n",
       "      <td>8857</td>\n",
       "      <td>Zamfara</td>\n",
       "      <td>NaN</td>\n",
       "      <td>4.000000</td>\n",
       "      <td>7.000000</td>\n",
       "      <td>0.0</td>\n",
       "      <td>1601556.469</td>\n",
       "    </tr>\n",
       "    <tr>\n",
       "      <th>13993</th>\n",
       "      <td>3731</td>\n",
       "      <td>Delta</td>\n",
       "      <td>NaN</td>\n",
       "      <td>4.308171</td>\n",
       "      <td>1.000000</td>\n",
       "      <td>3.0</td>\n",
       "      <td>2458443.818</td>\n",
       "    </tr>\n",
       "    <tr>\n",
       "      <th>13999</th>\n",
       "      <td>8787</td>\n",
       "      <td>Nasarawa</td>\n",
       "      <td>NaN</td>\n",
       "      <td>9.000000</td>\n",
       "      <td>7.000000</td>\n",
       "      <td>5.0</td>\n",
       "      <td>2858516.890</td>\n",
       "    </tr>\n",
       "  </tbody>\n",
       "</table>\n",
       "<p>1722 rows × 7 columns</p>\n",
       "</div>"
      ],
      "text/plain": [
       "          ID       loc title   bedroom  bathroom  parking_space        price\n",
       "2       9261     Ekiti   NaN  7.000000  5.000000            0.0  3364799.814\n",
       "12      3753       NaN   NaN  5.000000  3.134235            5.0  2087592.812\n",
       "16       488      Ondo   NaN  4.000000  2.000000            2.0  1851837.902\n",
       "19      3389    Kaduna   NaN  5.000000  1.000000            1.0  1424308.199\n",
       "27      1288     Delta   NaN  1.000000  2.000000            2.0  1412019.590\n",
       "...      ...       ...   ...       ...       ...            ...          ...\n",
       "13986   3433    Taraba   NaN  2.000000  1.000000            4.0  1062526.208\n",
       "13988  11693      Abia   NaN  3.000000  2.000000            3.0  1714768.802\n",
       "13991   8857   Zamfara   NaN  4.000000  7.000000            0.0  1601556.469\n",
       "13993   3731     Delta   NaN  4.308171  1.000000            3.0  2458443.818\n",
       "13999   8787  Nasarawa   NaN  9.000000  7.000000            5.0  2858516.890\n",
       "\n",
       "[1722 rows x 7 columns]"
      ]
     },
     "execution_count": 46,
     "metadata": {},
     "output_type": "execute_result"
    }
   ],
   "source": [
    "df_train[df_train['title'].isnull()==True]"
   ]
  },
  {
   "cell_type": "code",
   "execution_count": 47,
   "id": "f74861fa",
   "metadata": {
    "tags": []
   },
   "outputs": [
    {
     "data": {
      "text/plain": [
       "(10531, 7)"
      ]
     },
     "execution_count": 47,
     "metadata": {},
     "output_type": "execute_result"
    }
   ],
   "source": [
    "df_train_cl = df_train.dropna()\n",
    "df_train_cl.shape"
   ]
  },
  {
   "cell_type": "code",
   "execution_count": 48,
   "id": "e3a8cda7",
   "metadata": {
    "tags": []
   },
   "outputs": [
    {
     "name": "stderr",
     "output_type": "stream",
     "text": [
      "C:\\Users\\Fatu\\AppData\\Local\\Temp\\ipykernel_9068\\2816199289.py:5: SettingWithCopyWarning: \n",
      "A value is trying to be set on a copy of a slice from a DataFrame.\n",
      "Try using .loc[row_indexer,col_indexer] = value instead\n",
      "\n",
      "See the caveats in the documentation: https://pandas.pydata.org/pandas-docs/stable/user_guide/indexing.html#returning-a-view-versus-a-copy\n",
      "  df_train_cl['title_encoded'] = laEnc.fit_transform(df_train_cl['title'])\n"
     ]
    },
    {
     "data": {
      "text/plain": [
       "((10531, 41), (6000, 40))"
      ]
     },
     "execution_count": 48,
     "metadata": {},
     "output_type": "execute_result"
    }
   ],
   "source": [
    "# Create a LabelEncoder instance\n",
    "laEnc = LabelEncoder()\n",
    "\n",
    "# covert the title column to numeric data for the train and test set\n",
    "df_train_cl['title_encoded'] = laEnc.fit_transform(df_train_cl['title'])\n",
    "df_test['title_encoded'] = laEnc.fit_transform(df_test['title'])\n",
    "\n",
    "# perform one-hot encoding for the 'loc' column\n",
    "loc_encoded_train = pd.get_dummies(df_train_cl['loc'], prefix='loc')\n",
    "loc_encoded_test = pd.get_dummies(df_test['loc'], prefix='loc')\n",
    "\n",
    "# concatenate the one-hot encoded columns with the original DataFrame\n",
    "df_train_cl = pd.concat([df_train_cl, loc_encoded_train], axis=1)\n",
    "df_test = pd.concat([df_test, loc_encoded_test], axis=1)\n",
    "\n",
    "# Drop the original 'title' and 'loc' columns\n",
    "df_train_cl.drop(['title', 'loc', 'ID'], axis=1, inplace=True)\n",
    "df_test.drop(['title', 'loc', 'ID'], axis=1, inplace=True)\n",
    "\n",
    "df_train_cl.shape, df_test.shape"
   ]
  },
  {
   "cell_type": "code",
   "execution_count": 49,
   "id": "2e2944d6",
   "metadata": {
    "tags": []
   },
   "outputs": [
    {
     "data": {
      "text/html": [
       "<div>\n",
       "<style scoped>\n",
       "    .dataframe tbody tr th:only-of-type {\n",
       "        vertical-align: middle;\n",
       "    }\n",
       "\n",
       "    .dataframe tbody tr th {\n",
       "        vertical-align: top;\n",
       "    }\n",
       "\n",
       "    .dataframe thead th {\n",
       "        text-align: right;\n",
       "    }\n",
       "</style>\n",
       "<table border=\"1\" class=\"dataframe\">\n",
       "  <thead>\n",
       "    <tr style=\"text-align: right;\">\n",
       "      <th></th>\n",
       "      <th>bedroom</th>\n",
       "      <th>bathroom</th>\n",
       "      <th>parking_space</th>\n",
       "      <th>price</th>\n",
       "      <th>title_encoded</th>\n",
       "      <th>loc_Abia</th>\n",
       "      <th>loc_Adamawa</th>\n",
       "      <th>loc_Akwa Ibom</th>\n",
       "      <th>loc_Anambra</th>\n",
       "      <th>loc_Bauchi</th>\n",
       "      <th>...</th>\n",
       "      <th>loc_Ogun</th>\n",
       "      <th>loc_Ondo</th>\n",
       "      <th>loc_Osun</th>\n",
       "      <th>loc_Oyo</th>\n",
       "      <th>loc_Plateau</th>\n",
       "      <th>loc_Rivers</th>\n",
       "      <th>loc_Sokoto</th>\n",
       "      <th>loc_Taraba</th>\n",
       "      <th>loc_Yobe</th>\n",
       "      <th>loc_Zamfara</th>\n",
       "    </tr>\n",
       "  </thead>\n",
       "  <tbody>\n",
       "    <tr>\n",
       "      <th>0</th>\n",
       "      <td>2.000000</td>\n",
       "      <td>2.0</td>\n",
       "      <td>1.0</td>\n",
       "      <td>1149999.565</td>\n",
       "      <td>7</td>\n",
       "      <td>0</td>\n",
       "      <td>0</td>\n",
       "      <td>0</td>\n",
       "      <td>0</td>\n",
       "      <td>0</td>\n",
       "      <td>...</td>\n",
       "      <td>0</td>\n",
       "      <td>0</td>\n",
       "      <td>0</td>\n",
       "      <td>0</td>\n",
       "      <td>0</td>\n",
       "      <td>0</td>\n",
       "      <td>0</td>\n",
       "      <td>0</td>\n",
       "      <td>0</td>\n",
       "      <td>0</td>\n",
       "    </tr>\n",
       "    <tr>\n",
       "      <th>1</th>\n",
       "      <td>4.308171</td>\n",
       "      <td>2.0</td>\n",
       "      <td>4.0</td>\n",
       "      <td>1672416.689</td>\n",
       "      <td>0</td>\n",
       "      <td>0</td>\n",
       "      <td>0</td>\n",
       "      <td>0</td>\n",
       "      <td>0</td>\n",
       "      <td>0</td>\n",
       "      <td>...</td>\n",
       "      <td>0</td>\n",
       "      <td>1</td>\n",
       "      <td>0</td>\n",
       "      <td>0</td>\n",
       "      <td>0</td>\n",
       "      <td>0</td>\n",
       "      <td>0</td>\n",
       "      <td>0</td>\n",
       "      <td>0</td>\n",
       "      <td>0</td>\n",
       "    </tr>\n",
       "    <tr>\n",
       "      <th>3</th>\n",
       "      <td>5.000000</td>\n",
       "      <td>2.0</td>\n",
       "      <td>4.0</td>\n",
       "      <td>2410306.756</td>\n",
       "      <td>3</td>\n",
       "      <td>0</td>\n",
       "      <td>0</td>\n",
       "      <td>0</td>\n",
       "      <td>1</td>\n",
       "      <td>0</td>\n",
       "      <td>...</td>\n",
       "      <td>0</td>\n",
       "      <td>0</td>\n",
       "      <td>0</td>\n",
       "      <td>0</td>\n",
       "      <td>0</td>\n",
       "      <td>0</td>\n",
       "      <td>0</td>\n",
       "      <td>0</td>\n",
       "      <td>0</td>\n",
       "      <td>0</td>\n",
       "    </tr>\n",
       "    <tr>\n",
       "      <th>4</th>\n",
       "      <td>4.308171</td>\n",
       "      <td>5.0</td>\n",
       "      <td>6.0</td>\n",
       "      <td>2600700.898</td>\n",
       "      <td>8</td>\n",
       "      <td>0</td>\n",
       "      <td>0</td>\n",
       "      <td>0</td>\n",
       "      <td>0</td>\n",
       "      <td>0</td>\n",
       "      <td>...</td>\n",
       "      <td>0</td>\n",
       "      <td>0</td>\n",
       "      <td>0</td>\n",
       "      <td>0</td>\n",
       "      <td>0</td>\n",
       "      <td>0</td>\n",
       "      <td>0</td>\n",
       "      <td>0</td>\n",
       "      <td>0</td>\n",
       "      <td>0</td>\n",
       "    </tr>\n",
       "    <tr>\n",
       "      <th>5</th>\n",
       "      <td>4.308171</td>\n",
       "      <td>1.0</td>\n",
       "      <td>3.0</td>\n",
       "      <td>1341750.867</td>\n",
       "      <td>5</td>\n",
       "      <td>0</td>\n",
       "      <td>0</td>\n",
       "      <td>0</td>\n",
       "      <td>0</td>\n",
       "      <td>0</td>\n",
       "      <td>...</td>\n",
       "      <td>0</td>\n",
       "      <td>0</td>\n",
       "      <td>0</td>\n",
       "      <td>0</td>\n",
       "      <td>0</td>\n",
       "      <td>0</td>\n",
       "      <td>0</td>\n",
       "      <td>0</td>\n",
       "      <td>0</td>\n",
       "      <td>0</td>\n",
       "    </tr>\n",
       "  </tbody>\n",
       "</table>\n",
       "<p>5 rows × 41 columns</p>\n",
       "</div>"
      ],
      "text/plain": [
       "    bedroom  bathroom  parking_space        price  title_encoded  loc_Abia  \\\n",
       "0  2.000000       2.0            1.0  1149999.565              7         0   \n",
       "1  4.308171       2.0            4.0  1672416.689              0         0   \n",
       "3  5.000000       2.0            4.0  2410306.756              3         0   \n",
       "4  4.308171       5.0            6.0  2600700.898              8         0   \n",
       "5  4.308171       1.0            3.0  1341750.867              5         0   \n",
       "\n",
       "   loc_Adamawa  loc_Akwa Ibom  loc_Anambra  loc_Bauchi  ...  loc_Ogun  \\\n",
       "0            0              0            0           0  ...         0   \n",
       "1            0              0            0           0  ...         0   \n",
       "3            0              0            1           0  ...         0   \n",
       "4            0              0            0           0  ...         0   \n",
       "5            0              0            0           0  ...         0   \n",
       "\n",
       "   loc_Ondo  loc_Osun  loc_Oyo  loc_Plateau  loc_Rivers  loc_Sokoto  \\\n",
       "0         0         0        0            0           0           0   \n",
       "1         1         0        0            0           0           0   \n",
       "3         0         0        0            0           0           0   \n",
       "4         0         0        0            0           0           0   \n",
       "5         0         0        0            0           0           0   \n",
       "\n",
       "   loc_Taraba  loc_Yobe  loc_Zamfara  \n",
       "0           0         0            0  \n",
       "1           0         0            0  \n",
       "3           0         0            0  \n",
       "4           0         0            0  \n",
       "5           0         0            0  \n",
       "\n",
       "[5 rows x 41 columns]"
      ]
     },
     "execution_count": 49,
     "metadata": {},
     "output_type": "execute_result"
    }
   ],
   "source": [
    "df_train_cl.head()"
   ]
  },
  {
   "cell_type": "code",
   "execution_count": 50,
   "id": "d2d6eafe-561d-4903-a72e-aff48ea32493",
   "metadata": {
    "tags": []
   },
   "outputs": [
    {
     "name": "stdout",
     "output_type": "stream",
     "text": [
      "LinearRegression MAE score on the X_test is: 490758.1956950683\n"
     ]
    }
   ],
   "source": [
    "#implementing decision tree algorithm\n",
    "X = df_train_cl.drop('price', axis=1)\n",
    "y = df_train_cl.price\n",
    "\n",
    "X_train, X_test, y_train, y_test = train_test_split(X, y, test_size = 0.3, random_state = 0)\n",
    "\n",
    "# Instantiate the model\n",
    "reg_model = LinearRegression()\n",
    "reg_model.fit(X_train, y_train)\n",
    "\n",
    "# Make predictions\n",
    "y_pred = reg_model.predict(X_test)\n",
    "\n",
    "# Check the MAE score of the model\n",
    "print(f'LinearRegression MAE score on the X_test is: {mean_absolute_error(y_test, y_pred)}')"
   ]
  },
  {
   "cell_type": "code",
   "execution_count": 51,
   "id": "fc6b5d3c",
   "metadata": {
    "tags": []
   },
   "outputs": [
    {
     "name": "stdout",
     "output_type": "stream",
     "text": [
      "Root Mean Squared Error (RMSE) score: 738190.48\n"
     ]
    }
   ],
   "source": [
    "# Calculate the Mean Squared Error\n",
    "mse = mean_squared_error(y_test, y_pred)\n",
    "rmse = np.sqrt(mse)\n",
    "\n",
    "# Check the MAE score of the model\n",
    "print(f'Root Mean Squared Error (RMSE) score: {rmse:.2f}')"
   ]
  },
  {
   "cell_type": "code",
   "execution_count": 52,
   "id": "c55849c0-993c-4f05-82d2-38b7931511b3",
   "metadata": {
    "tags": []
   },
   "outputs": [],
   "source": [
    "# Make prediction on the test set\n",
    "predictions = reg_model.predict(df_test)\n",
    "\n",
    "# # Create a submission file\n",
    "submission_file = submission.copy()\n",
    "submission_file['price'] = predictions"
   ]
  },
  {
   "cell_type": "code",
   "execution_count": 54,
   "id": "809c4c67-35f5-4ed0-8a5f-76c5f1ac31b6",
   "metadata": {},
   "outputs": [],
   "source": [
    "submission_file.to_csv(\"submission.csv\", index = False)"
   ]
  },
  {
   "cell_type": "code",
   "execution_count": null,
   "id": "e02ea240-c4aa-45d3-8955-0452b5cde285",
   "metadata": {},
   "outputs": [],
   "source": []
  }
 ],
 "metadata": {
  "kernelspec": {
   "display_name": "Python 3 (ipykernel)",
   "language": "python",
   "name": "python3"
  },
  "language_info": {
   "codemirror_mode": {
    "name": "ipython",
    "version": 3
   },
   "file_extension": ".py",
   "mimetype": "text/x-python",
   "name": "python",
   "nbconvert_exporter": "python",
   "pygments_lexer": "ipython3",
   "version": "3.11.3"
  }
 },
 "nbformat": 4,
 "nbformat_minor": 5
}
